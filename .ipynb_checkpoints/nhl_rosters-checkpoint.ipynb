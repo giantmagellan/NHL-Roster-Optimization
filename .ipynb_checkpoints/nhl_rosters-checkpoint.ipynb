{
 "cells": [
  {
   "cell_type": "markdown",
   "metadata": {},
   "source": [
    "# NHL Roster Optimization\n",
    "### This notebook will perform the following:\n",
    "* Build a database of game and roster data from the past 10 years.\n",
    "* Perform statistical analysis on player traits and their affect on the game results.\n",
    "* Use machine learning to predict an \"ideal\" championship roster.\n",
    "* \"Ideal\" roster will be made up of 20 synthetic players\n",
    "* Synthetic team will be compared to an active team that is most closely coordinated to the synthetic team."
   ]
  },
  {
   "cell_type": "code",
   "execution_count": 1,
   "metadata": {},
   "outputs": [],
   "source": [
    "# Dependencies\n",
    "## Data cleaning and plotting\n",
    "import pandas as pd\n",
    "import matplotlib as mpl\n",
    "import matplotlib.pyplot as plt\n",
    "import numpy as np\n",
    "\n",
    "## Database and webscraping\n",
    "import pymongo\n",
    "import os\n",
    "import requests\n",
    "from bs4 import BeautifulSoup as bs\n",
    "from splinter import Browser"
   ]
  },
  {
   "cell_type": "markdown",
   "metadata": {},
   "source": [
    "#### Setting up Mongo Database for NHL roster data"
   ]
  },
  {
   "cell_type": "code",
   "execution_count": 3,
   "metadata": {},
   "outputs": [],
   "source": [
    "# Connect to MongoDB default port\n",
    "conn = 'mongodb://localhost:27017'\n",
    "client = pymongo.MongoClient(conn)"
   ]
  },
  {
   "cell_type": "code",
   "execution_count": 8,
   "metadata": {},
   "outputs": [
    {
     "name": "stdout",
     "output_type": "stream",
     "text": [
      "['admin', 'config', 'local', 'nhlstats_db']\n"
     ]
    }
   ],
   "source": [
    "# Defining database and collection\n",
    "nhl_db = client.nhlstats_db\n",
    "collection = nhl_db.articles\n",
    "\n",
    "print(client.list_database_names())"
   ]
  },
  {
   "cell_type": "code",
   "execution_count": 9,
   "metadata": {},
   "outputs": [
    {
     "name": "stdout",
     "output_type": "stream",
     "text": [
      "This database exists.\n"
     ]
    }
   ],
   "source": [
    "# Check if database exists\n",
    "dblist = client.list_database_names()\n",
    "if \"nhlstats_db\" in dblist:\n",
    "    print('This database exists.')"
   ]
  },
  {
   "cell_type": "markdown",
   "metadata": {},
   "source": [
    "#### Gather NHL historical data."
   ]
  },
  {
   "cell_type": "code",
   "execution_count": 23,
   "metadata": {},
   "outputs": [],
   "source": [
    "# Function to collect links for each season over the past decade.\n",
    "base_url = 'https://www.hockey-reference.com/leagues'\n",
    "season_prefix = 'https://www.hockey-reference.com'\n",
    "\n",
    "# Using Splinter to navigate site and find image url \n",
    "executable_path = {'executable_path': 'chromedriver.exe'}\n",
    "browser = Browser('chrome', **executable_path, headless=False)\n",
    "\n",
    "browser.visit(base_url)\n",
    "html = browser.html\n",
    "nhl_soup = bs(html, 'html.parser')"
   ]
  },
  {
   "cell_type": "markdown",
   "metadata": {},
   "source": [
    "##### Function to pull urls for each NHL season from the past 10 years, excluding the current season."
   ]
  },
  {
   "cell_type": "code",
   "execution_count": 24,
   "metadata": {},
   "outputs": [
    {
     "data": {
      "text/plain": [
       "['https://www.hockey-reference.com/leagues/NHL_2019.html',\n",
       " 'https://www.hockey-reference.com/leagues/NHL_2018.html',\n",
       " 'https://www.hockey-reference.com/leagues/NHL_2017.html',\n",
       " 'https://www.hockey-reference.com/leagues/NHL_2016.html',\n",
       " 'https://www.hockey-reference.com/leagues/NHL_2015.html',\n",
       " 'https://www.hockey-reference.com/leagues/NHL_2014.html',\n",
       " 'https://www.hockey-reference.com/leagues/NHL_2013.html',\n",
       " 'https://www.hockey-reference.com/leagues/NHL_2012.html',\n",
       " 'https://www.hockey-reference.com/leagues/NHL_2011.html',\n",
       " 'https://www.hockey-reference.com/leagues/NHL_2010.html']"
      ]
     },
     "execution_count": 24,
     "metadata": {},
     "output_type": "execute_result"
    }
   ],
   "source": [
    "# Empty list to store season url's \n",
    "seasons = []\n",
    "\n",
    "def get_season_urls(nhl_soup):\n",
    "    \"\"\" Querying through html to find each season's url.\"\"\"\n",
    "    league_index = nhl_soup.find('div', {'id': 'all_league_index'})\n",
    "    containers = league_index.find('div', {'class': 'table_outer_container'})\n",
    "    tbody = containers.find('tbody')\n",
    "    trs = tbody.find_all('tr')[:11]\n",
    "    \n",
    "    for tr in trs:\n",
    "        \"\"\" Joining the url prefix with the desired url suffix.\"\"\"\n",
    "        season_url = season_prefix + tr.find('a')['href']\n",
    "        seasons.append(season_url)\n",
    "#     print(seasons)\n",
    "\n",
    "season_links = get_season_urls(nhl_soup)\n",
    "\"\"\" Assigning HTML links from seasons 09-10 to 18-19 \"\"\"\n",
    "desired_seasons = seasons[1:11:1]\n",
    "desired_seasons"
   ]
  },
  {
   "cell_type": "markdown",
   "metadata": {},
   "source": [
    "##### Scan through each season and pull the link from every team during that season."
   ]
  },
  {
   "cell_type": "code",
   "execution_count": 35,
   "metadata": {},
   "outputs": [
    {
     "name": "stdout",
     "output_type": "stream",
     "text": [
      "<tr class=\"full_table\" data-row=\"17\"><th class=\"left\" csk=\"72\" data-stat=\"team_name\" scope=\"row\"><a href=\"/teams/NJD/2019.html\">New Jersey Devils</a></th><td class=\"right\" data-stat=\"games\">82</td><td class=\"right\" data-stat=\"wins\">31</td><td class=\"right\" data-stat=\"losses\">41</td><td class=\"right\" data-stat=\"losses_ot\">10</td><td class=\"right\" data-stat=\"points\">72</td><td class=\"right\" data-stat=\"points_pct\">.439</td><td class=\"right\" data-stat=\"goals\">222</td><td class=\"right\" data-stat=\"opp_goals\">275</td><td class=\"right\" data-stat=\"srs\">-0.61</td><td class=\"right\" data-stat=\"sos\">0.04</td><td class=\"right\" data-stat=\"points_pct_old\">.384</td><td class=\"right\" data-stat=\"ro_wins\">28</td><td class=\"right\" csk=\"65\" data-stat=\"reg_rec\">24-41-17</td><td class=\"right\" data-stat=\"points_pct_reg\">.396</td></tr>\n",
      "<tr class=\"full_table\" data-row=\"17\"><th class=\"left\" csk=\"77\" data-stat=\"team_name\" scope=\"row\"><a href=\"/teams/NYR/2018.html\">New York Rangers</a></th><td class=\"right\" data-stat=\"games\">82</td><td class=\"right\" data-stat=\"wins\">34</td><td class=\"right\" data-stat=\"losses\">39</td><td class=\"right\" data-stat=\"losses_ot\">9</td><td class=\"right\" data-stat=\"points\">77</td><td class=\"right\" data-stat=\"points_pct\">.470</td><td class=\"right\" data-stat=\"goals\">231</td><td class=\"right\" data-stat=\"opp_goals\">268</td><td class=\"right\" data-stat=\"srs\">-0.46</td><td class=\"right\" data-stat=\"sos\">-0.01</td><td class=\"right\" data-stat=\"points_pct_old\">.427</td><td class=\"right\" data-stat=\"ro_wins\">31</td><td class=\"right\" csk=\"67\" data-stat=\"reg_rec\">24-39-19</td><td class=\"right\" data-stat=\"points_pct_reg\">.409</td></tr>\n",
      "<tr class=\"full_table\" data-row=\"17\"><th class=\"left\" csk=\"70\" data-stat=\"team_name\" scope=\"row\"><a href=\"/teams/NJD/2017.html\">New Jersey Devils</a></th><td class=\"right\" data-stat=\"games\">82</td><td class=\"right\" data-stat=\"wins\">28</td><td class=\"right\" data-stat=\"losses\">40</td><td class=\"right\" data-stat=\"losses_ot\">14</td><td class=\"right\" data-stat=\"points\">70</td><td class=\"right\" data-stat=\"points_pct\">.427</td><td class=\"right\" data-stat=\"goals\">183</td><td class=\"right\" data-stat=\"opp_goals\">244</td><td class=\"right\" data-stat=\"srs\">-0.67</td><td class=\"right\" data-stat=\"sos\">0.08</td><td class=\"right\" data-stat=\"points_pct_old\">.341</td><td class=\"right\" data-stat=\"ro_wins\">25</td><td class=\"right\" csk=\"60\" data-stat=\"reg_rec\">18-40-24</td><td class=\"right\" data-stat=\"points_pct_reg\">.366</td></tr>\n",
      "<tr class=\"full_table\" data-row=\"17\"><th class=\"left\" csk=\"76\" data-stat=\"team_name\" scope=\"row\"><a href=\"/teams/CBJ/2016.html\">Columbus Blue Jackets</a></th><td class=\"right\" data-stat=\"games\">82</td><td class=\"right\" data-stat=\"wins\">34</td><td class=\"right\" data-stat=\"losses\">40</td><td class=\"right\" data-stat=\"losses_ot\">8</td><td class=\"right\" data-stat=\"points\">76</td><td class=\"right\" data-stat=\"points_pct\">.463</td><td class=\"right\" data-stat=\"goals\">219</td><td class=\"right\" data-stat=\"opp_goals\">252</td><td class=\"right\" data-stat=\"srs\">-0.38</td><td class=\"right\" data-stat=\"sos\">0.03</td><td class=\"right\" data-stat=\"points_pct_old\">.402</td><td class=\"right\" data-stat=\"ro_wins\">28</td><td class=\"right\" csk=\"68\" data-stat=\"reg_rec\">26-40-16</td><td class=\"right\" data-stat=\"points_pct_reg\">.415</td></tr>\n",
      "<tr class=\"full_table\" data-row=\"17\"><th class=\"left\" csk=\"71\" data-stat=\"team_name\" scope=\"row\"><a href=\"/teams/CAR/2015.html\">Carolina Hurricanes</a></th><td class=\"right\" data-stat=\"games\">82</td><td class=\"right\" data-stat=\"wins\">30</td><td class=\"right\" data-stat=\"losses\">41</td><td class=\"right\" data-stat=\"losses_ot\">11</td><td class=\"right\" data-stat=\"points\">71</td><td class=\"right\" data-stat=\"points_pct\">.433</td><td class=\"right\" data-stat=\"goals\">188</td><td class=\"right\" data-stat=\"opp_goals\">226</td><td class=\"right\" data-stat=\"srs\">-0.44</td><td class=\"right\" data-stat=\"sos\">0.02</td><td class=\"right\" data-stat=\"points_pct_old\">.378</td><td class=\"right\" data-stat=\"ro_wins\">25</td><td class=\"right\" csk=\"65\" data-stat=\"reg_rec\">24-41-17</td><td class=\"right\" data-stat=\"points_pct_reg\">.396</td></tr>\n",
      "<tr class=\"full_table\" data-row=\"17\"><th class=\"left\" csk=\"79\" data-stat=\"team_name\" scope=\"row\"><a href=\"/teams/NYI/2014.html\">New York Islanders</a></th><td class=\"right\" data-stat=\"games\">82</td><td class=\"right\" data-stat=\"wins\">34</td><td class=\"right\" data-stat=\"losses\">37</td><td class=\"right\" data-stat=\"losses_ot\">11</td><td class=\"right\" data-stat=\"points\">79</td><td class=\"right\" data-stat=\"points_pct\">.482</td><td class=\"right\" data-stat=\"goals\">225</td><td class=\"right\" data-stat=\"opp_goals\">267</td><td class=\"right\" data-stat=\"srs\">-0.51</td><td class=\"right\" data-stat=\"sos\">0.00</td><td class=\"right\" data-stat=\"points_pct_old\">.396</td><td class=\"right\" data-stat=\"ro_wins\">25</td><td class=\"right\" csk=\"66\" data-stat=\"reg_rec\">21-37-24</td><td class=\"right\" data-stat=\"points_pct_reg\">.402</td></tr>\n",
      "<tr class=\"full_table\" data-row=\"17\"><th class=\"left\" csk=\"36\" data-stat=\"team_name\" scope=\"row\"><a href=\"/teams/FLA/2013.html\">Florida Panthers</a></th><td class=\"right\" data-stat=\"games\">48</td><td class=\"right\" data-stat=\"wins\">15</td><td class=\"right\" data-stat=\"losses\">27</td><td class=\"right\" data-stat=\"losses_ot\">6</td><td class=\"right\" data-stat=\"points\">36</td><td class=\"right\" data-stat=\"points_pct\">.375</td><td class=\"right\" data-stat=\"goals\">112</td><td class=\"right\" data-stat=\"opp_goals\">171</td><td class=\"right\" data-stat=\"srs\">-1.18</td><td class=\"right\" data-stat=\"sos\">0.05</td><td class=\"right\" data-stat=\"points_pct_old\">.292</td><td class=\"right\" data-stat=\"ro_wins\">12</td><td class=\"right\" csk=\"32\" data-stat=\"reg_rec\">11-27-10</td><td class=\"right\" data-stat=\"points_pct_reg\">.333</td></tr>\n",
      "<tr class=\"full_table\" data-row=\"17\"><th class=\"left\" csk=\"82\" data-stat=\"team_name\" scope=\"row\"><a href=\"/teams/CAR/2012.html\">Carolina Hurricanes</a></th><td class=\"right\" data-stat=\"games\">82</td><td class=\"right\" data-stat=\"wins\">33</td><td class=\"right\" data-stat=\"losses\">33</td><td class=\"right\" data-stat=\"losses_ot\">16</td><td class=\"right\" data-stat=\"points\">82</td><td class=\"right\" data-stat=\"points_pct\">.500</td><td class=\"right\" data-stat=\"goals\">213</td><td class=\"right\" data-stat=\"opp_goals\">243</td><td class=\"right\" data-stat=\"srs\">-0.39</td><td class=\"right\" data-stat=\"sos\">-0.02</td><td class=\"right\" data-stat=\"points_pct_old\">.433</td><td class=\"right\" data-stat=\"ro_wins\">32</td><td class=\"right\" csk=\"78\" data-stat=\"reg_rec\">29-33-20</td><td class=\"right\" data-stat=\"points_pct_reg\">.476</td></tr>\n",
      "<tr class=\"full_table\" data-row=\"17\"><th class=\"left\" csk=\"72\" data-stat=\"team_name\" scope=\"row\"><a href=\"/teams/FLA/2011.html\">Florida Panthers</a></th><td class=\"right\" data-stat=\"games\">82</td><td class=\"right\" data-stat=\"wins\">30</td><td class=\"right\" data-stat=\"losses\">40</td><td class=\"right\" data-stat=\"losses_ot\">12</td><td class=\"right\" data-stat=\"points\">72</td><td class=\"right\" data-stat=\"points_pct\">.439</td><td class=\"right\" data-stat=\"goals\">195</td><td class=\"right\" data-stat=\"opp_goals\">229</td><td class=\"right\" data-stat=\"srs\">-0.43</td><td class=\"right\" data-stat=\"sos\">-0.01</td><td class=\"right\" data-stat=\"points_pct_old\">.384</td><td class=\"right\" data-stat=\"ro_wins\">26</td><td class=\"right\" csk=\"62\" data-stat=\"reg_rec\">20-40-22</td><td class=\"right\" data-stat=\"points_pct_reg\">.378</td></tr>\n",
      "<tr class=\"full_table\" data-row=\"17\"><th class=\"left\" csk=\"77\" data-stat=\"team_name\" scope=\"row\"><a href=\"/teams/FLA/2010.html\">Florida Panthers</a></th><td class=\"right\" data-stat=\"games\">82</td><td class=\"right\" data-stat=\"wins\">32</td><td class=\"right\" data-stat=\"losses\">37</td><td class=\"right\" data-stat=\"losses_ot\">13</td><td class=\"right\" data-stat=\"points\">77</td><td class=\"right\" data-stat=\"points_pct\">.470</td><td class=\"right\" data-stat=\"goals\">208</td><td class=\"right\" data-stat=\"opp_goals\">244</td><td class=\"right\" data-stat=\"srs\">-0.47</td><td class=\"right\" data-stat=\"sos\">-0.03</td><td class=\"right\" data-stat=\"points_pct_old\">.415</td><td class=\"right\" data-stat=\"ro_wins\">26</td><td class=\"right\" csk=\"69\" data-stat=\"reg_rec\">24-37-21</td><td class=\"right\" data-stat=\"points_pct_reg\">.421</td></tr>\n"
     ]
    }
   ],
   "source": [
    "# Empty list to store team url's\n",
    "teamYears = []\n",
    "\n",
    "# Chromedriver\n",
    "executable_path = {'executable_path': 'chromedriver.exe'}\n",
    "browser = Browser('chrome', **executable_path, headless=False)\n",
    "\n",
    "# def get_teamSeason_urls(nhl_soup):\n",
    "for link in desired_seasons:\n",
    "    browser.visit(link)\n",
    "    html = browser.html\n",
    "    soup = bs(html, 'html.parser')\n",
    "\n",
    "    \"\"\" Query the tbody \"\"\"\n",
    "    eas_clone = nhl_soup.find('div', {'id': 'div_standings_EAS_clone'})\n",
    "    tbody = soup.find('tbody')\n",
    "\n",
    "    \"\"\" Query the table \"\"\"\n",
    "    trs = tbody.find_all('tr', {'class', 'full_table'})\n",
    "#     ths = trs.find_all('th')\n",
    "#     a = trs.find('a')['href']\n",
    "\n",
    "#       team_urls = teamYears.append(a)\n",
    "    for tr in trs:\n",
    "        \"\"\" Joining the url prefix with the desired url suffix.\"\"\"\n",
    "#         teamSeasons = desired_seasons + tr.find('a')['href']\n",
    "#         seasons.append(teamSeasons)\n",
    "        tr.find('a')['href']\n",
    "#     print(seasons)\n",
    "    print(tr)\n",
    "        \n",
    "# get_teamSeason_urls(nhl_soup)"
   ]
  },
  {
   "cell_type": "code",
   "execution_count": null,
   "metadata": {},
   "outputs": [],
   "source": []
  }
 ],
 "metadata": {
  "kernelspec": {
   "display_name": "Python 3.7.3 64-bit ('base': conda)",
   "language": "python",
   "name": "python37364bitbaseconda8b8387ecfd4547b0b305075350132ee9"
  },
  "language_info": {
   "codemirror_mode": {
    "name": "ipython",
    "version": 3
   },
   "file_extension": ".py",
   "mimetype": "text/x-python",
   "name": "python",
   "nbconvert_exporter": "python",
   "pygments_lexer": "ipython3",
   "version": "3.7.3"
  }
 },
 "nbformat": 4,
 "nbformat_minor": 4
}
